{
 "cells": [
  {
   "cell_type": "code",
   "execution_count": 1,
   "metadata": {},
   "outputs": [],
   "source": [
    "import selenium\n",
    "from selenium import webdriver\n",
    "from selenium.webdriver.chrome.options import Options\n",
    "from selenium.webdriver.common.by import By\n",
    "from selenium.webdriver.common.keys import Keys\n",
    "from selenium.webdriver.support.ui import Select\n",
    "from selenium.webdriver.support.ui import WebDriverWait\n",
    "from selenium.webdriver.support.expected_conditions import presence_of_element_located\n",
    "import time\n",
    "import pandas as pd"
   ]
  },
  {
   "cell_type": "code",
   "execution_count": 2,
   "metadata": {},
   "outputs": [],
   "source": [
    "housing = \"https://secure.housing.ubc.ca/cas/sgw/cwl_auth.login_cas\""
   ]
  },
  {
   "cell_type": "code",
   "execution_count": 3,
   "metadata": {},
   "outputs": [],
   "source": [
    "chrome_driver_path = \"C:\\Python39\\Scripts\\chromedriver.exe\"\n",
    "chrome_options = Options()\n",
    "# chrome_options.add_argument('--headless')\n",
    "# chrome_options.add_argument()\n",
    "\n",
    "webdriver = webdriver.Chrome(\n",
    "    executable_path=chrome_driver_path, options=chrome_options\n",
    ")"
   ]
  },
  {
   "cell_type": "code",
   "execution_count": 4,
   "metadata": {},
   "outputs": [],
   "source": [
    "def launchBrowser(url):\n",
    "    chrome_options = Options()\n",
    "    chrome_options.binary_location = \"../Google Chrome\"\n",
    "    chrome_options.add_argument(\"start-maximized\");\n",
    "\n",
    "    webdriver.get(url)\n",
    "    return webdriver\n",
    "driver = launchBrowser(housing)"
   ]
  },
  {
   "cell_type": "code",
   "execution_count": 5,
   "metadata": {},
   "outputs": [],
   "source": [
    "def login(driver):\n",
    "    # identify username, password and signin elements\n",
    "    driver.find_element_by_id(\"username\").send_keys(\"swtheart\")\n",
    "    time.sleep(0.2)\n",
    "    driver.find_element_by_id(\"password\").send_keys(\"Il0veCS!\")\n",
    "    time.sleep(0.4)\n",
    "    driver.find_element_by_name(\"submit\").click()\n",
    "\n",
    "login(driver)"
   ]
  },
  {
   "cell_type": "code",
   "execution_count": 36,
   "metadata": {},
   "outputs": [
    {
     "name": "stdout",
     "output_type": "stream",
     "text": [
      "<class 'NoneType'>\n"
     ]
    }
   ],
   "source": [
    "def getRent(driver):\n",
    "#     s = driver.find_element_by_partial_link_text(\"Student Profile\").click()\n",
    "    res = driver.find_element_by_link_text(\"Residents\").click()\n",
    "#     after = driver.find_element_by_partial_link_text(\"After\").click()\n",
    "#     select = Select(after.find_element_by_partial_link_text(\"Maintenance\"))\n",
    "#     m = after.find_element_by_partial_link_text(\"Maintenance\").click()\n",
    "    print(type(res))\n",
    "getRent(driver)"
   ]
  }
 ],
 "metadata": {
  "kernelspec": {
   "display_name": "Python 3",
   "language": "python",
   "name": "python3"
  },
  "language_info": {
   "codemirror_mode": {
    "name": "ipython",
    "version": 3
   },
   "file_extension": ".py",
   "mimetype": "text/x-python",
   "name": "python",
   "nbconvert_exporter": "python",
   "pygments_lexer": "ipython3",
   "version": "3.8.0"
  }
 },
 "nbformat": 4,
 "nbformat_minor": 4
}
