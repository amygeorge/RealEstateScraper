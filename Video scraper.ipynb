{
 "cells": [
  {
   "cell_type": "code",
   "execution_count": 1,
   "metadata": {},
   "outputs": [],
   "source": [
    "import selenium\n",
    "from selenium import webdriver\n",
    "from selenium.webdriver.chrome.options import Options\n",
    "from selenium.webdriver.common.by import By\n",
    "from selenium.webdriver.common.keys import Keys\n",
    "from selenium.webdriver.support.ui import Select\n",
    "from selenium.webdriver.support.ui import WebDriverWait\n",
    "from selenium.webdriver.support.expected_conditions import presence_of_element_located\n",
    "import time\n",
    "import pandas as pd"
   ]
  },
  {
   "cell_type": "code",
   "execution_count": 2,
   "metadata": {},
   "outputs": [],
   "source": [
    "canvas = \"https://canvas.ubc.ca/courses/53557/external_tools/15408\""
   ]
  },
  {
   "cell_type": "code",
   "execution_count": 3,
   "metadata": {},
   "outputs": [],
   "source": [
    "chrome_driver_path = \"C:\\Python39\\Scripts\\chromedriver.exe\"\n",
    "chrome_options = Options()\n",
    "# chrome_options.add_argument('--headless')\n",
    "# chrome_options.add_argument()\n",
    "\n",
    "webdriver = webdriver.Chrome(\n",
    "    executable_path=chrome_driver_path, options=chrome_options\n",
    ")"
   ]
  },
  {
   "cell_type": "code",
   "execution_count": 4,
   "metadata": {},
   "outputs": [],
   "source": [
    "def launchBrowser(url):\n",
    "    chrome_options = Options()\n",
    "    chrome_options.binary_location = \"../Google Chrome\"\n",
    "    chrome_options.add_argument(\"start-maximized\");\n",
    "\n",
    "    webdriver.get(url)\n",
    "    return webdriver\n",
    "driver = launchBrowser(canvas)"
   ]
  },
  {
   "cell_type": "code",
   "execution_count": 5,
   "metadata": {},
   "outputs": [],
   "source": [
    "def login(driver):\n",
    "    # identify username, password and signin elements\n",
    "    driver.find_element_by_id(\"username\").send_keys(\"swtheart\")\n",
    "    time.sleep(0.2)\n",
    "    driver.find_element_by_id(\"password\").send_keys(\"Il0veCS!\")\n",
    "    time.sleep(0.4)\n",
    "    driver.find_element_by_name(\"_eventId_proceed\").click()\n",
    "\n",
    "login(driver)"
   ]
  },
  {
   "cell_type": "code",
   "execution_count": 44,
   "metadata": {},
   "outputs": [
    {
     "name": "stdout",
     "output_type": "stream",
     "text": [
      "<selenium.webdriver.remote.webelement.WebElement (session=\"808d4c791eec8cd975963ddaeb207852\", element=\"31f7f71e-0616-4e2e-80bf-57132c3a1135\")>\n"
     ]
    }
   ],
   "source": [
    "def cloudRecordings(driver):\n",
    "    # identify username, password and signin elements\n",
    "    #list = driver.find_elements_by_css_selector(\"[aria-label='Cloud Recordings']\")\n",
    "    # driver.find_element_by_name().click()\n",
    "    d = driver.find_element_by_xpath('/html/body/div/div/div/div[2]')\n",
    "#     /html/body/div/div/div/div[2]/div/div/div[1]/div\n",
    "#     print(d.get_attribute('class'))\n",
    "#     driver.get_attribute(\"aria-label\")\n",
    "    n = driver.find_element_by_id('not_right_side')\n",
    "    c = n.find_element_by_id(\"content\")\n",
    "    t = c.find_element_by_class_name(\"tool_content_wrapper\")\n",
    "    h = t.find_element_by_class_name(\"hide\")\n",
    "#     a = h.find_element_by_class_name(\"recording-search\")\n",
    "    print(h)\n",
    "cloudRecordings(driver)"
   ]
  }
 ],
 "metadata": {
  "kernelspec": {
   "display_name": "Python 3",
   "language": "python",
   "name": "python3"
  },
  "language_info": {
   "codemirror_mode": {
    "name": "ipython",
    "version": 3
   },
   "file_extension": ".py",
   "mimetype": "text/x-python",
   "name": "python",
   "nbconvert_exporter": "python",
   "pygments_lexer": "ipython3",
   "version": "3.8.0"
  }
 },
 "nbformat": 4,
 "nbformat_minor": 4
}
